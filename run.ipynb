{
 "cells": [
  {
   "cell_type": "code",
   "execution_count": 1,
   "id": "283e66bf",
   "metadata": {},
   "outputs": [],
   "source": [
    "import os\n",
    "import random\n",
    "import pickle\n",
    "\n",
    "import numpy as np\n",
    "\n",
    "import torch\n",
    "from torch.utils.data import DataLoader, RandomSampler, SequentialSampler\n",
    "\n",
    "import utils\n",
    "import witg\n",
    "import model\n",
    "import dataset\n",
    "import trainer"
   ]
  },
  {
   "cell_type": "code",
   "execution_count": 2,
   "id": "61cf56d0",
   "metadata": {},
   "outputs": [],
   "source": [
    "# Raw data file\n",
    "data_file  = './datasets/home.txt'\n",
    "\n",
    "# Training sequence file and Weight Item Transition Graph (WITG) file\n",
    "train_sequence_file = './datasets/all_train_seq.txt'\n",
    "witg_file = './datasets/witg.pt'\n",
    "\n",
    "# Splited dataset files\n",
    "train_file = './datasets/train.pkl'\n",
    "valid_file = './datasets/valid.pkl'\n",
    "test_file  = './datasets/test.pkl'\n",
    "\n",
    "# Model checkpoint file\n",
    "output_dir = 'output/'\n",
    "checkpoint_file = output_dir + 'checkpoint.pth'"
   ]
  },
  {
   "cell_type": "code",
   "execution_count": 3,
   "id": "4467afd7",
   "metadata": {},
   "outputs": [],
   "source": [
    "if not os.path.exists(output_dir):\n",
    "    os.makedirs(output_dir)\n",
    "    print(f'{output_dir} created')"
   ]
  },
  {
   "cell_type": "code",
   "execution_count": 4,
   "id": "aefe3d05",
   "metadata": {},
   "outputs": [
    {
     "name": "stdout",
     "output_type": "stream",
     "text": [
      "Using GPU\n"
     ]
    }
   ],
   "source": [
    "cuda_condition = torch.cuda.is_available()\n",
    "\n",
    "if cuda_condition:\n",
    "    print('Using GPU')\n",
    "else:\n",
    "    print('Using CPU')"
   ]
  },
  {
   "cell_type": "code",
   "execution_count": 5,
   "id": "29b85e09",
   "metadata": {},
   "outputs": [],
   "source": [
    "# Set random seed for reproducibility\n",
    "seed = 2026\n",
    "\n",
    "random.seed(seed)\n",
    "os.environ['PYTHONHASHSEED'] = str(seed)\n",
    "np.random.seed(seed)\n",
    "torch.manual_seed(seed)\n",
    "torch.cuda.manual_seed(seed)\n",
    "torch.cuda.manual_seed_all(seed)\n",
    "torch.backends.cudnn.deterministic = True"
   ]
  },
  {
   "cell_type": "code",
   "execution_count": 6,
   "id": "115eb55d",
   "metadata": {},
   "outputs": [
    {
     "name": "stdout",
     "output_type": "stream",
     "text": [
      "num_users: 66519, num_items: 28238\n"
     ]
    }
   ],
   "source": [
    "user_num, item_num, train_matrix, test_matrix = utils.get_matrix_and_num(data_file)\n",
    "print(f'num_users: {user_num}, num_items: {item_num}')"
   ]
  },
  {
   "cell_type": "code",
   "execution_count": null,
   "id": "8093a4f3",
   "metadata": {},
   "outputs": [],
   "source": [
    "train_data = pickle.load(open(train_file, 'rb'))\n",
    "valid_data = pickle.load(open(valid_file, 'rb'))\n",
    "test_data  = pickle.load(open(test_file , 'rb'))"
   ]
  },
  {
   "cell_type": "code",
   "execution_count": 8,
   "id": "b0053ac1",
   "metadata": {},
   "outputs": [
    {
     "name": "stdout",
     "output_type": "stream",
     "text": [
      "Data(x=[28238, 1], edge_index=[2, 1617638], edge_attr=[1617638, 1])\n"
     ]
    }
   ],
   "source": [
    "if os.path.exists(witg_file):\n",
    "    global_graph = torch.load(witg_file, weights_only=False)\n",
    "else:\n",
    "    global_graph = witg.build_weighted_item_transition_graph(train_sequence_file=train_sequence_file)\n",
    "    torch.save(global_graph, witg_file)\n",
    "\n",
    "print(global_graph)"
   ]
  },
  {
   "cell_type": "code",
   "execution_count": null,
   "id": "3662ac02",
   "metadata": {},
   "outputs": [],
   "source": [
    "# 위클리 미션 임을 감안하여, epoch는 1로 설정하여 테스트합니다.\n",
    "epochs = 1  \n",
    "batch_size = 2048\n",
    "\n",
    "num_hidden_layers = 2\n",
    "num_attention_heads = 2\n",
    "max_seq_length = 50\n",
    "hidden_size = 64\n",
    "sample_size = [20, 20]\n",
    "lam1 = 1.0\n",
    "lam2 = 0.1"
   ]
  },
  {
   "cell_type": "code",
   "execution_count": 10,
   "id": "7da8500f",
   "metadata": {},
   "outputs": [],
   "source": [
    "model = model.GCL4SR(\n",
    "    user_num=user_num,\n",
    "    item_num=item_num,\n",
    "    hidden_size=hidden_size,\n",
    "    max_seq_length=max_seq_length,\n",
    "    num_attention_heads=num_attention_heads,\n",
    "    global_graph=global_graph,\n",
    "    num_hidden_layers=num_hidden_layers,\n",
    "    sample_size=sample_size,\n",
    "    lam1=lam1,\n",
    "    lam2=lam2\n",
    ")\n",
    "\n",
    "optimizer = torch.optim.Adam(model.parameters(), lr=0.001, weight_decay=5e-5)"
   ]
  },
  {
   "cell_type": "code",
   "execution_count": null,
   "id": "3ffb8113",
   "metadata": {},
   "outputs": [],
   "source": [
    "# 위클리 미션 임을 감안하여, Validation 단계는 생략합니다.\n",
    "# valid_dataset = dataset.GCL4SRData(valid_data, max_seq_length)\n",
    "# valid_sampler = SequentialSampler(valid_dataset)\n",
    "# valid_dataloader = DataLoader(valid_dataset, sampler=valid_sampler, batch_size=batch_size)\n",
    "\n",
    "train_dataset = dataset.GCL4SRData(train_data, max_seq_length)\n",
    "train_sampler = RandomSampler(train_dataset)\n",
    "train_dataloader = DataLoader(train_dataset, sampler=train_sampler, batch_size=batch_size, pin_memory=True, num_workers=8)\n",
    "\n",
    "test_dataset  = dataset.GCL4SRData(test_data,  max_seq_length)\n",
    "test_sampler  = SequentialSampler(test_dataset)\n",
    "test_dataloader  = DataLoader(test_dataset,  sampler=test_sampler,  batch_size=batch_size)"
   ]
  },
  {
   "cell_type": "code",
   "execution_count": 12,
   "id": "500822eb",
   "metadata": {},
   "outputs": [],
   "source": [
    "trainer = trainer.GCL4SR_Train(model, optimizer, sample_size, hidden_size, train_matrix)"
   ]
  },
  {
   "cell_type": "code",
   "execution_count": null,
   "id": "5fe93663",
   "metadata": {},
   "outputs": [
    {
     "name": "stderr",
     "output_type": "stream",
     "text": [
      "Epoch 0:  58%|█████▊    | 99/172 [04:39<03:26,  2.83s/it]\n"
     ]
    },
    {
     "ename": "KeyboardInterrupt",
     "evalue": "",
     "output_type": "error",
     "traceback": [
      "\u001b[1;31m---------------------------------------------------------------------------\u001b[0m",
      "\u001b[1;31mKeyboardInterrupt\u001b[0m                         Traceback (most recent call last)",
      "Cell \u001b[1;32mIn[13], line 2\u001b[0m\n\u001b[0;32m      1\u001b[0m \u001b[38;5;28;01mfor\u001b[39;00m epoch \u001b[38;5;129;01min\u001b[39;00m \u001b[38;5;28mrange\u001b[39m(epochs):\n\u001b[1;32m----> 2\u001b[0m     \u001b[43mtrainer\u001b[49m\u001b[38;5;241;43m.\u001b[39;49m\u001b[43mtrain_stage\u001b[49m\u001b[43m(\u001b[49m\u001b[43mepoch\u001b[49m\u001b[43m,\u001b[49m\u001b[43m \u001b[49m\u001b[43mtrain_dataloader\u001b[49m\u001b[43m)\u001b[49m\n\u001b[0;32m      3\u001b[0m     scores, _ \u001b[38;5;241m=\u001b[39m trainer\u001b[38;5;241m.\u001b[39meval_stage(epoch, eval_dataloader, test\u001b[38;5;241m=\u001b[39m\u001b[38;5;28;01mFalse\u001b[39;00m)\n\u001b[0;32m      4\u001b[0m     torch\u001b[38;5;241m.\u001b[39msave(model\u001b[38;5;241m.\u001b[39mstate_dict(), checkpoint_file)\n",
      "File \u001b[1;32mc:\\Users\\성진규\\Documents\\Github\\GCL4SR\\trainer.py:96\u001b[0m, in \u001b[0;36mGCL4SR_Train.train_stage\u001b[1;34m(self, epoch, train_dataloader)\u001b[0m\n\u001b[0;32m     93\u001b[0m \u001b[38;5;28;01mfor\u001b[39;00m _, batch \u001b[38;5;129;01min\u001b[39;00m train_data_iter:\n\u001b[0;32m     94\u001b[0m     batch \u001b[38;5;241m=\u001b[39m \u001b[38;5;28mtuple\u001b[39m(t\u001b[38;5;241m.\u001b[39mto(\u001b[38;5;28mself\u001b[39m\u001b[38;5;241m.\u001b[39mmodel\u001b[38;5;241m.\u001b[39mdevice) \u001b[38;5;28;01mfor\u001b[39;00m t \u001b[38;5;129;01min\u001b[39;00m batch)\n\u001b[1;32m---> 96\u001b[0m     loss \u001b[38;5;241m=\u001b[39m \u001b[38;5;28;43mself\u001b[39;49m\u001b[38;5;241;43m.\u001b[39;49m\u001b[43mmodel\u001b[49m\u001b[38;5;241;43m.\u001b[39;49m\u001b[43mloss_fn\u001b[49m\u001b[43m(\u001b[49m\u001b[43mbatch\u001b[49m\u001b[43m)\u001b[49m\n\u001b[0;32m     98\u001b[0m     \u001b[38;5;28mself\u001b[39m\u001b[38;5;241m.\u001b[39moptimizer\u001b[38;5;241m.\u001b[39mzero_grad()\n\u001b[0;32m     99\u001b[0m     loss\u001b[38;5;241m.\u001b[39mbackward()\n",
      "File \u001b[1;32mc:\\Users\\성진규\\Documents\\Github\\GCL4SR\\model.py:265\u001b[0m, in \u001b[0;36mloss_fn\u001b[1;34m(self, data)\u001b[0m\n\u001b[0;32m    263\u001b[0m seq_out \u001b[38;5;241m=\u001b[39m \u001b[38;5;28mself\u001b[39m\u001b[38;5;241m.\u001b[39mdropout(seq_out)\n\u001b[0;32m    264\u001b[0m test_item_emb \u001b[38;5;241m=\u001b[39m \u001b[38;5;28mself\u001b[39m\u001b[38;5;241m.\u001b[39mitem_embeddings\u001b[38;5;241m.\u001b[39mweight[:\u001b[38;5;28mself\u001b[39m\u001b[38;5;241m.\u001b[39mitem_num]\n\u001b[1;32m--> 265\u001b[0m logits \u001b[38;5;241m=\u001b[39m torch\u001b[38;5;241m.\u001b[39mmatmul(seq_out, test_item_emb\u001b[38;5;241m.\u001b[39mtranspose(\u001b[38;5;241m0\u001b[39m, \u001b[38;5;241m1\u001b[39m))\n\u001b[0;32m    266\u001b[0m main_loss \u001b[38;5;241m=\u001b[39m \u001b[38;5;28mself\u001b[39m\u001b[38;5;241m.\u001b[39mcriterion(logits, targets)\n\u001b[0;32m    268\u001b[0m sum_a \u001b[38;5;241m=\u001b[39m torch\u001b[38;5;241m.\u001b[39msum(seq_gnn_a \u001b[38;5;241m*\u001b[39m seq_mask, \u001b[38;5;241m1\u001b[39m) \u001b[38;5;241m/\u001b[39m torch\u001b[38;5;241m.\u001b[39msum(seq_mask\u001b[38;5;241m.\u001b[39mfloat(), \u001b[38;5;241m1\u001b[39m)\n",
      "File \u001b[1;32mc:\\Users\\성진규\\Documents\\Github\\GCL4SR\\model.py:228\u001b[0m, in \u001b[0;36mGCL4SR.forward\u001b[1;34m(self, data)\u001b[0m\n\u001b[0;32m    225\u001b[0m seq_mask \u001b[38;5;241m=\u001b[39m \u001b[38;5;241m1.0\u001b[39m \u001b[38;5;241m-\u001b[39m seq_mask\n\u001b[0;32m    227\u001b[0m seq_hidden_global_a \u001b[38;5;241m=\u001b[39m \u001b[38;5;28mself\u001b[39m\u001b[38;5;241m.\u001b[39mgnn_encode(seq)\u001b[38;5;241m.\u001b[39mview(\u001b[38;5;241m-\u001b[39m\u001b[38;5;241m1\u001b[39m, \u001b[38;5;28mself\u001b[39m\u001b[38;5;241m.\u001b[39mmax_seq_length, \u001b[38;5;28mself\u001b[39m\u001b[38;5;241m.\u001b[39mhidden_size)\n\u001b[1;32m--> 228\u001b[0m seq_hidden_global_b \u001b[38;5;241m=\u001b[39m \u001b[38;5;28;43mself\u001b[39;49m\u001b[38;5;241;43m.\u001b[39;49m\u001b[43mgnn_encode\u001b[49m\u001b[43m(\u001b[49m\u001b[43mseq\u001b[49m\u001b[43m)\u001b[49m\u001b[38;5;241m.\u001b[39mview(\u001b[38;5;241m-\u001b[39m\u001b[38;5;241m1\u001b[39m, \u001b[38;5;28mself\u001b[39m\u001b[38;5;241m.\u001b[39mmax_seq_length, \u001b[38;5;28mself\u001b[39m\u001b[38;5;241m.\u001b[39mhidden_size)\n\u001b[0;32m    230\u001b[0m key_padding_mask \u001b[38;5;241m=\u001b[39m (inputs \u001b[38;5;241m==\u001b[39m \u001b[38;5;241m0\u001b[39m)\n\u001b[0;32m    231\u001b[0m attn_mask \u001b[38;5;241m=\u001b[39m \u001b[38;5;28mself\u001b[39m\u001b[38;5;241m.\u001b[39mgenerate_square_subsequent_mask(\u001b[38;5;28mself\u001b[39m\u001b[38;5;241m.\u001b[39mmax_seq_length)\u001b[38;5;241m.\u001b[39mto(inputs\u001b[38;5;241m.\u001b[39mdevice)\n",
      "File \u001b[1;32mc:\\Users\\성진규\\Documents\\Github\\GCL4SR\\model.py:188\u001b[0m, in \u001b[0;36mGCL4SR.gnn_encode\u001b[1;34m(self, items)\u001b[0m\n\u001b[0;32m    186\u001b[0m g_adjs \u001b[38;5;241m=\u001b[39m []\n\u001b[0;32m    187\u001b[0m s_nodes \u001b[38;5;241m=\u001b[39m []\n\u001b[1;32m--> 188\u001b[0m \u001b[38;5;28;01mfor\u001b[39;00m (b_size, node_idx, adjs) \u001b[38;5;129;01min\u001b[39;00m subgraph_loaders:\n\u001b[0;32m    189\u001b[0m     \u001b[38;5;28;01mif\u001b[39;00m \u001b[38;5;28mtype\u001b[39m(adjs) \u001b[38;5;241m==\u001b[39m \u001b[38;5;28mlist\u001b[39m:\n\u001b[0;32m    190\u001b[0m         g_adjs \u001b[38;5;241m=\u001b[39m [adj\u001b[38;5;241m.\u001b[39mto(items\u001b[38;5;241m.\u001b[39mdevice) \u001b[38;5;28;01mfor\u001b[39;00m adj \u001b[38;5;129;01min\u001b[39;00m adjs]\n",
      "File \u001b[1;32mc:\\ProgramData\\anaconda3\\envs\\GCL4SR\\lib\\site-packages\\torch\\utils\\data\\dataloader.py:734\u001b[0m, in \u001b[0;36m_BaseDataLoaderIter.__next__\u001b[1;34m(self)\u001b[0m\n\u001b[0;32m    731\u001b[0m \u001b[38;5;28;01mif\u001b[39;00m \u001b[38;5;28mself\u001b[39m\u001b[38;5;241m.\u001b[39m_sampler_iter \u001b[38;5;129;01mis\u001b[39;00m \u001b[38;5;28;01mNone\u001b[39;00m:\n\u001b[0;32m    732\u001b[0m     \u001b[38;5;66;03m# TODO(https://github.com/pytorch/pytorch/issues/76750)\u001b[39;00m\n\u001b[0;32m    733\u001b[0m     \u001b[38;5;28mself\u001b[39m\u001b[38;5;241m.\u001b[39m_reset()  \u001b[38;5;66;03m# type: ignore[call-arg]\u001b[39;00m\n\u001b[1;32m--> 734\u001b[0m data \u001b[38;5;241m=\u001b[39m \u001b[38;5;28;43mself\u001b[39;49m\u001b[38;5;241;43m.\u001b[39;49m\u001b[43m_next_data\u001b[49m\u001b[43m(\u001b[49m\u001b[43m)\u001b[49m\n\u001b[0;32m    735\u001b[0m \u001b[38;5;28mself\u001b[39m\u001b[38;5;241m.\u001b[39m_num_yielded \u001b[38;5;241m+\u001b[39m\u001b[38;5;241m=\u001b[39m \u001b[38;5;241m1\u001b[39m\n\u001b[0;32m    736\u001b[0m \u001b[38;5;28;01mif\u001b[39;00m (\n\u001b[0;32m    737\u001b[0m     \u001b[38;5;28mself\u001b[39m\u001b[38;5;241m.\u001b[39m_dataset_kind \u001b[38;5;241m==\u001b[39m _DatasetKind\u001b[38;5;241m.\u001b[39mIterable\n\u001b[0;32m    738\u001b[0m     \u001b[38;5;129;01mand\u001b[39;00m \u001b[38;5;28mself\u001b[39m\u001b[38;5;241m.\u001b[39m_IterableDataset_len_called \u001b[38;5;129;01mis\u001b[39;00m \u001b[38;5;129;01mnot\u001b[39;00m \u001b[38;5;28;01mNone\u001b[39;00m\n\u001b[0;32m    739\u001b[0m     \u001b[38;5;129;01mand\u001b[39;00m \u001b[38;5;28mself\u001b[39m\u001b[38;5;241m.\u001b[39m_num_yielded \u001b[38;5;241m>\u001b[39m \u001b[38;5;28mself\u001b[39m\u001b[38;5;241m.\u001b[39m_IterableDataset_len_called\n\u001b[0;32m    740\u001b[0m ):\n",
      "File \u001b[1;32mc:\\ProgramData\\anaconda3\\envs\\GCL4SR\\lib\\site-packages\\torch\\utils\\data\\dataloader.py:790\u001b[0m, in \u001b[0;36m_SingleProcessDataLoaderIter._next_data\u001b[1;34m(self)\u001b[0m\n\u001b[0;32m    788\u001b[0m \u001b[38;5;28;01mdef\u001b[39;00m\u001b[38;5;250m \u001b[39m\u001b[38;5;21m_next_data\u001b[39m(\u001b[38;5;28mself\u001b[39m):\n\u001b[0;32m    789\u001b[0m     index \u001b[38;5;241m=\u001b[39m \u001b[38;5;28mself\u001b[39m\u001b[38;5;241m.\u001b[39m_next_index()  \u001b[38;5;66;03m# may raise StopIteration\u001b[39;00m\n\u001b[1;32m--> 790\u001b[0m     data \u001b[38;5;241m=\u001b[39m \u001b[38;5;28;43mself\u001b[39;49m\u001b[38;5;241;43m.\u001b[39;49m\u001b[43m_dataset_fetcher\u001b[49m\u001b[38;5;241;43m.\u001b[39;49m\u001b[43mfetch\u001b[49m\u001b[43m(\u001b[49m\u001b[43mindex\u001b[49m\u001b[43m)\u001b[49m  \u001b[38;5;66;03m# may raise StopIteration\u001b[39;00m\n\u001b[0;32m    791\u001b[0m     \u001b[38;5;28;01mif\u001b[39;00m \u001b[38;5;28mself\u001b[39m\u001b[38;5;241m.\u001b[39m_pin_memory:\n\u001b[0;32m    792\u001b[0m         data \u001b[38;5;241m=\u001b[39m _utils\u001b[38;5;241m.\u001b[39mpin_memory\u001b[38;5;241m.\u001b[39mpin_memory(data, \u001b[38;5;28mself\u001b[39m\u001b[38;5;241m.\u001b[39m_pin_memory_device)\n",
      "File \u001b[1;32mc:\\ProgramData\\anaconda3\\envs\\GCL4SR\\lib\\site-packages\\torch\\utils\\data\\_utils\\fetch.py:55\u001b[0m, in \u001b[0;36m_MapDatasetFetcher.fetch\u001b[1;34m(self, possibly_batched_index)\u001b[0m\n\u001b[0;32m     53\u001b[0m \u001b[38;5;28;01melse\u001b[39;00m:\n\u001b[0;32m     54\u001b[0m     data \u001b[38;5;241m=\u001b[39m \u001b[38;5;28mself\u001b[39m\u001b[38;5;241m.\u001b[39mdataset[possibly_batched_index]\n\u001b[1;32m---> 55\u001b[0m \u001b[38;5;28;01mreturn\u001b[39;00m \u001b[38;5;28;43mself\u001b[39;49m\u001b[38;5;241;43m.\u001b[39;49m\u001b[43mcollate_fn\u001b[49m\u001b[43m(\u001b[49m\u001b[43mdata\u001b[49m\u001b[43m)\u001b[49m\n",
      "File \u001b[1;32mc:\\ProgramData\\anaconda3\\envs\\GCL4SR\\lib\\site-packages\\torch_geometric\\loader\\neighbor_sampler.py:177\u001b[0m, in \u001b[0;36mNeighborSampler.sample\u001b[1;34m(self, batch)\u001b[0m\n\u001b[0;32m    175\u001b[0m n_id \u001b[38;5;241m=\u001b[39m batch\n\u001b[0;32m    176\u001b[0m \u001b[38;5;28;01mfor\u001b[39;00m size \u001b[38;5;129;01min\u001b[39;00m \u001b[38;5;28mself\u001b[39m\u001b[38;5;241m.\u001b[39msizes:\n\u001b[1;32m--> 177\u001b[0m     adj_t, n_id \u001b[38;5;241m=\u001b[39m \u001b[38;5;28;43mself\u001b[39;49m\u001b[38;5;241;43m.\u001b[39;49m\u001b[43madj_t\u001b[49m\u001b[38;5;241;43m.\u001b[39;49m\u001b[43msample_adj\u001b[49m\u001b[43m(\u001b[49m\u001b[43mn_id\u001b[49m\u001b[43m,\u001b[49m\u001b[43m \u001b[49m\u001b[43msize\u001b[49m\u001b[43m,\u001b[49m\u001b[43m \u001b[49m\u001b[43mreplace\u001b[49m\u001b[38;5;241;43m=\u001b[39;49m\u001b[38;5;28;43;01mFalse\u001b[39;49;00m\u001b[43m)\u001b[49m\n\u001b[0;32m    178\u001b[0m     e_id \u001b[38;5;241m=\u001b[39m adj_t\u001b[38;5;241m.\u001b[39mstorage\u001b[38;5;241m.\u001b[39mvalue()\n\u001b[0;32m    179\u001b[0m     size \u001b[38;5;241m=\u001b[39m adj_t\u001b[38;5;241m.\u001b[39msparse_sizes()[::\u001b[38;5;241m-\u001b[39m\u001b[38;5;241m1\u001b[39m]\n",
      "File \u001b[1;32mc:\\ProgramData\\anaconda3\\envs\\GCL4SR\\lib\\site-packages\\torch_sparse\\sample.py:32\u001b[0m, in \u001b[0;36msample_adj\u001b[1;34m(src, subset, num_neighbors, replace)\u001b[0m\n\u001b[0;32m     27\u001b[0m \u001b[38;5;28;01mdef\u001b[39;00m\u001b[38;5;250m \u001b[39m\u001b[38;5;21msample_adj\u001b[39m(src: SparseTensor, subset: torch\u001b[38;5;241m.\u001b[39mTensor, num_neighbors: \u001b[38;5;28mint\u001b[39m,\n\u001b[0;32m     28\u001b[0m                replace: \u001b[38;5;28mbool\u001b[39m \u001b[38;5;241m=\u001b[39m \u001b[38;5;28;01mFalse\u001b[39;00m) \u001b[38;5;241m-\u001b[39m\u001b[38;5;241m>\u001b[39m Tuple[SparseTensor, torch\u001b[38;5;241m.\u001b[39mTensor]:\n\u001b[0;32m     30\u001b[0m     rowptr, col, value \u001b[38;5;241m=\u001b[39m src\u001b[38;5;241m.\u001b[39mcsr()\n\u001b[1;32m---> 32\u001b[0m     rowptr, col, n_id, e_id \u001b[38;5;241m=\u001b[39m \u001b[43mtorch\u001b[49m\u001b[38;5;241;43m.\u001b[39;49m\u001b[43mops\u001b[49m\u001b[38;5;241;43m.\u001b[39;49m\u001b[43mtorch_sparse\u001b[49m\u001b[38;5;241;43m.\u001b[39;49m\u001b[43msample_adj\u001b[49m\u001b[43m(\u001b[49m\n\u001b[0;32m     33\u001b[0m \u001b[43m        \u001b[49m\u001b[43mrowptr\u001b[49m\u001b[43m,\u001b[49m\u001b[43m \u001b[49m\u001b[43mcol\u001b[49m\u001b[43m,\u001b[49m\u001b[43m \u001b[49m\u001b[43msubset\u001b[49m\u001b[43m,\u001b[49m\u001b[43m \u001b[49m\u001b[43mnum_neighbors\u001b[49m\u001b[43m,\u001b[49m\u001b[43m \u001b[49m\u001b[43mreplace\u001b[49m\u001b[43m)\u001b[49m\n\u001b[0;32m     35\u001b[0m     \u001b[38;5;28;01mif\u001b[39;00m value \u001b[38;5;129;01mis\u001b[39;00m \u001b[38;5;129;01mnot\u001b[39;00m \u001b[38;5;28;01mNone\u001b[39;00m:\n\u001b[0;32m     36\u001b[0m         value \u001b[38;5;241m=\u001b[39m value[e_id]\n",
      "File \u001b[1;32mc:\\ProgramData\\anaconda3\\envs\\GCL4SR\\lib\\site-packages\\torch\\_ops.py:1243\u001b[0m, in \u001b[0;36mOpOverloadPacket.__call__\u001b[1;34m(self, *args, **kwargs)\u001b[0m\n\u001b[0;32m   1241\u001b[0m \u001b[38;5;28;01mif\u001b[39;00m \u001b[38;5;28mself\u001b[39m\u001b[38;5;241m.\u001b[39m_has_torchbind_op_overload \u001b[38;5;129;01mand\u001b[39;00m _must_dispatch_in_python(args, kwargs):\n\u001b[0;32m   1242\u001b[0m     \u001b[38;5;28;01mreturn\u001b[39;00m _call_overload_packet_from_python(\u001b[38;5;28mself\u001b[39m, \u001b[38;5;241m*\u001b[39margs, \u001b[38;5;241m*\u001b[39m\u001b[38;5;241m*\u001b[39mkwargs)\n\u001b[1;32m-> 1243\u001b[0m \u001b[38;5;28;01mreturn\u001b[39;00m \u001b[38;5;28mself\u001b[39m\u001b[38;5;241m.\u001b[39m_op(\u001b[38;5;241m*\u001b[39margs, \u001b[38;5;241m*\u001b[39m\u001b[38;5;241m*\u001b[39mkwargs)\n",
      "\u001b[1;31mKeyboardInterrupt\u001b[0m: "
     ]
    }
   ],
   "source": [
    "for epoch in range(epochs):\n",
    "    trainer.train_stage(epoch, train_dataloader)\n",
    "    torch.save(model.state_dict(), checkpoint_file)\n",
    "    # scores, _ = trainer.eval_stage(epoch, valid_dataloader, test=False)\n",
    "    \n",
    "\n",
    "trainer.train_matrix = test_matrix\n",
    "trainer.model.load_state_dict(torch.load(checkpoint_file))\n",
    "scores, result_info = trainer.eval_stage(0, test_dataloader, test=True)\n",
    "print(result_info)"
   ]
  }
 ],
 "metadata": {
  "kernelspec": {
   "display_name": "GCL4SR",
   "language": "python",
   "name": "python3"
  },
  "language_info": {
   "codemirror_mode": {
    "name": "ipython",
    "version": 3
   },
   "file_extension": ".py",
   "mimetype": "text/x-python",
   "name": "python",
   "nbconvert_exporter": "python",
   "pygments_lexer": "ipython3",
   "version": "3.10.18"
  }
 },
 "nbformat": 4,
 "nbformat_minor": 5
}
